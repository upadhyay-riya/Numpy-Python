{
 "cells": [
  {
   "cell_type": "code",
   "execution_count": 2,
   "metadata": {},
   "outputs": [],
   "source": [
    "import numpy as np"
   ]
  },
  {
   "cell_type": "code",
   "execution_count": 3,
   "metadata": {},
   "outputs": [
    {
     "name": "stdout",
     "output_type": "stream",
     "text": [
      "1D Array: [1 2 3 4 5]\n"
     ]
    }
   ],
   "source": [
    "\n",
    "# Create a 1D array\n",
    "array = np.array([1, 2, 3, 4, 5])\n",
    "print(\"1D Array:\", array)"
   ]
  },
  {
   "cell_type": "code",
   "execution_count": 4,
   "metadata": {},
   "outputs": [
    {
     "name": "stdout",
     "output_type": "stream",
     "text": [
      "2D Array:\n",
      "[[1 2 3]\n",
      " [4 5 6]]\n"
     ]
    }
   ],
   "source": [
    "# Create a 2D array\n",
    "array_2d = np.array([[1, 2, 3], [4, 5, 6]])\n",
    "print(\"2D Array:\")\n",
    "print(array_2d)"
   ]
  },
  {
   "cell_type": "code",
   "execution_count": 5,
   "metadata": {},
   "outputs": [
    {
     "name": "stdout",
     "output_type": "stream",
     "text": [
      "Sum Array: [ 6  7  8  9 10]\n"
     ]
    }
   ],
   "source": [
    "# Perform basic arithmetic operations\n",
    "sum_array = array + 5\n",
    "print(\"Sum Array:\", sum_array)"
   ]
  },
  {
   "cell_type": "code",
   "execution_count": 6,
   "metadata": {},
   "outputs": [
    {
     "name": "stdout",
     "output_type": "stream",
     "text": [
      "Multiplied Array: [ 2  4  6  8 10]\n"
     ]
    }
   ],
   "source": [
    "# Element-wise multiplication\n",
    "mult_array = array * 2\n",
    "print(\"Multiplied Array:\", mult_array)"
   ]
  },
  {
   "cell_type": "markdown",
   "metadata": {},
   "source": [
    "### Examples\n",
    "- This repository includes a variety of examples demonstrating different NumPy functionalities. Below are some highlighted examples:\n",
    "\n",
    "    - Array Creation and Manipulation\n",
    "    - Mathematical Operations\n",
    "    - Statistical Operations\n",
    "    - Linear Algebra"
   ]
  },
  {
   "cell_type": "markdown",
   "metadata": {},
   "source": [
    "### Array Creation and Manipulation\n",
    "\n",
    "**Exercise 1: Creating Arrays**\n",
    "1. Create a 1D array of integers from 1 to 10.\n",
    "2. Create a 2D array of shape (3, 3) filled with random integers from 0 to 9.\n",
    "3. Create a 3D array of shape (2, 3, 4) filled with ones.\n",
    "\n",
    "**Exercise 2: Array Indexing and Slicing**\n",
    "1. Extract the first three elements from the 1D array created in Exercise 1.\n",
    "2. Extract the second row from the 2D array.\n",
    "3. Extract the first two elements from each row of the second depth layer in the 3D array.\n",
    "\n",
    "**Exercise 3: Array Reshaping and Flattening**\n",
    "1. Reshape the 1D array into a 2D array of shape (2, 5).\n",
    "2. Flatten the 2D array back into a 1D array.\n",
    "3. Reshape the 3D array into a 2D array of shape (6, 4)."
   ]
  },
  {
   "cell_type": "code",
   "execution_count": 8,
   "metadata": {},
   "outputs": [
    {
     "name": "stdout",
     "output_type": "stream",
     "text": [
      "1D Array: [ 1  2  3  4  5  6  7  8  9 10]\n"
     ]
    }
   ],
   "source": [
    "import numpy as np\n",
    "\n",
    "# Exercise 1\n",
    "array_1d = np.arange(1, 11)\n",
    "print(\"1D Array:\", array_1d)"
   ]
  },
  {
   "cell_type": "code",
   "execution_count": 9,
   "metadata": {},
   "outputs": [
    {
     "name": "stdout",
     "output_type": "stream",
     "text": [
      "2D Array:\n",
      " [[3 2 3]\n",
      " [2 2 3]\n",
      " [8 1 5]]\n"
     ]
    }
   ],
   "source": [
    "array_2d = np.random.randint(0, 10, (3, 3))\n",
    "print(\"2D Array:\\n\", array_2d)"
   ]
  },
  {
   "cell_type": "code",
   "execution_count": 10,
   "metadata": {},
   "outputs": [
    {
     "name": "stdout",
     "output_type": "stream",
     "text": [
      "3D Array:\n",
      " [[[1. 1. 1. 1.]\n",
      "  [1. 1. 1. 1.]\n",
      "  [1. 1. 1. 1.]]\n",
      "\n",
      " [[1. 1. 1. 1.]\n",
      "  [1. 1. 1. 1.]\n",
      "  [1. 1. 1. 1.]]]\n"
     ]
    }
   ],
   "source": [
    "array_3d = np.ones((2, 3, 4))\n",
    "print(\"3D Array:\\n\", array_3d)"
   ]
  },
  {
   "cell_type": "code",
   "execution_count": 12,
   "metadata": {},
   "outputs": [
    {
     "name": "stdout",
     "output_type": "stream",
     "text": [
      "First three elements: [1 2 3]\n",
      "Second row: [2 2 3]\n",
      "First two elements of the second layer:\n",
      " [[1. 1.]\n",
      " [1. 1.]\n",
      " [1. 1.]]\n"
     ]
    }
   ],
   "source": [
    "# Exercise 2\n",
    "first_three_elements = array_1d[:3]\n",
    "print(\"First three elements:\", first_three_elements)\n",
    "second_row = array_2d[1, :]\n",
    "print(\"Second row:\", second_row)\n",
    "second_layer_elements = array_3d[1, :, :2]\n",
    "print(\"First two elements of the second layer:\\n\", second_layer_elements)\n"
   ]
  },
  {
   "cell_type": "code",
   "execution_count": 14,
   "metadata": {},
   "outputs": [
    {
     "name": "stdout",
     "output_type": "stream",
     "text": [
      "Reshaped 2D array:\n",
      " [[ 1  2  3  4  5]\n",
      " [ 6  7  8  9 10]]\n"
     ]
    }
   ],
   "source": [
    "# Exercise 3\n",
    "reshaped_2d = array_1d.reshape(2, 5)\n",
    "print(\"Reshaped 2D array:\\n\", reshaped_2d)"
   ]
  },
  {
   "cell_type": "code",
   "execution_count": 15,
   "metadata": {},
   "outputs": [
    {
     "name": "stdout",
     "output_type": "stream",
     "text": [
      "Flattened array: [ 1  2  3  4  5  6  7  8  9 10]\n"
     ]
    }
   ],
   "source": [
    "flattened_array = reshaped_2d.flatten()\n",
    "print(\"Flattened array:\", flattened_array)"
   ]
  },
  {
   "cell_type": "code",
   "execution_count": 16,
   "metadata": {},
   "outputs": [
    {
     "name": "stdout",
     "output_type": "stream",
     "text": [
      "Reshaped 3D to 2D array:\n",
      " [[1. 1. 1. 1.]\n",
      " [1. 1. 1. 1.]\n",
      " [1. 1. 1. 1.]\n",
      " [1. 1. 1. 1.]\n",
      " [1. 1. 1. 1.]\n",
      " [1. 1. 1. 1.]]\n"
     ]
    }
   ],
   "source": [
    "reshaped_3d_to_2d = array_3d.reshape(6, 4)\n",
    "print(\"Reshaped 3D to 2D array:\\n\", reshaped_3d_to_2d)"
   ]
  },
  {
   "cell_type": "markdown",
   "metadata": {},
   "source": [
    "### Mathematical Operations\n",
    "\n",
    "**Exercise 1: Basic Arithmetic Operations**\n",
    "1. Create two 1D arrays and perform element-wise addition, subtraction, multiplication, and division.\n",
    "2. Perform the same operations on 2D arrays of shape (2, 3).\n",
    "\n",
    "**Exercise 2: Universal Functions (ufuncs)**\n",
    "1. Apply the `np.sqrt` function to a 1D array of squared integers.\n",
    "2. Apply the `np.exp` function to a 2D array of random floats between 0 and 1."
   ]
  },
  {
   "cell_type": "code",
   "execution_count": 17,
   "metadata": {},
   "outputs": [
    {
     "name": "stdout",
     "output_type": "stream",
     "text": [
      "Element-wise addition: [6 6 6 6 6]\n",
      "Element-wise subtraction: [-4 -2  0  2  4]\n",
      "Element-wise multiplication: [5 8 9 8 5]\n",
      "Element-wise division: [0.2 0.5 1.  2.  5. ]\n"
     ]
    }
   ],
   "source": [
    "# Exercise 1\n",
    "array_a = np.array([1, 2, 3, 4, 5])\n",
    "array_b = np.array([5, 4, 3, 2, 1])\n",
    "addition = array_a + array_b\n",
    "print(\"Element-wise addition:\", addition)\n",
    "subtraction = array_a - array_b\n",
    "print(\"Element-wise subtraction:\", subtraction)\n",
    "multiplication = array_a * array_b\n",
    "print(\"Element-wise multiplication:\", multiplication)\n",
    "division = array_a / array_b\n",
    "print(\"Element-wise division:\", division)"
   ]
  },
  {
   "cell_type": "code",
   "execution_count": 18,
   "metadata": {},
   "outputs": [
    {
     "name": "stdout",
     "output_type": "stream",
     "text": [
      "2D Element-wise addition:\n",
      " [[7 7 7]\n",
      " [7 7 7]]\n",
      "2D Element-wise subtraction:\n",
      " [[-5 -3 -1]\n",
      " [ 1  3  5]]\n",
      "2D Element-wise multiplication:\n",
      " [[ 6 10 12]\n",
      " [12 10  6]]\n",
      "2D Element-wise division:\n",
      " [[0.16666667 0.4        0.75      ]\n",
      " [1.33333333 2.5        6.        ]]\n"
     ]
    }
   ],
   "source": [
    "array_2d_a = np.array([[1, 2, 3], [4, 5, 6]])\n",
    "array_2d_b = np.array([[6, 5, 4], [3, 2, 1]])\n",
    "addition_2d = array_2d_a + array_2d_b\n",
    "print(\"2D Element-wise addition:\\n\", addition_2d)\n",
    "subtraction_2d = array_2d_a - array_2d_b\n",
    "print(\"2D Element-wise subtraction:\\n\", subtraction_2d)\n",
    "multiplication_2d = array_2d_a * array_2d_b\n",
    "print(\"2D Element-wise multiplication:\\n\", multiplication_2d)\n",
    "division_2d = array_2d_a / array_2d_b\n",
    "print(\"2D Element-wise division:\\n\", division_2d)"
   ]
  },
  {
   "cell_type": "code",
   "execution_count": 19,
   "metadata": {},
   "outputs": [
    {
     "name": "stdout",
     "output_type": "stream",
     "text": [
      "Square roots: [1. 2. 3. 4. 5.]\n",
      "Exponential of random floats:\n",
      " [[1.9686739  2.20112453 1.62190299]\n",
      " [1.23042738 1.81040577 1.12640807]]\n"
     ]
    }
   ],
   "source": [
    "# Exercise 2\n",
    "squared_array = np.array([1, 4, 9, 16, 25])\n",
    "sqrt_array = np.sqrt(squared_array)\n",
    "print(\"Square roots:\", sqrt_array)\n",
    "random_floats = np.random.rand(2, 3)\n",
    "exp_array = np.exp(random_floats)\n",
    "print(\"Exponential of random floats:\\n\", exp_array)"
   ]
  },
  {
   "cell_type": "markdown",
   "metadata": {},
   "source": []
  }
 ],
 "metadata": {
  "kernelspec": {
   "display_name": "ml_env",
   "language": "python",
   "name": "python3"
  },
  "language_info": {
   "codemirror_mode": {
    "name": "ipython",
    "version": 3
   },
   "file_extension": ".py",
   "mimetype": "text/x-python",
   "name": "python",
   "nbconvert_exporter": "python",
   "pygments_lexer": "ipython3",
   "version": "3.11.5"
  }
 },
 "nbformat": 4,
 "nbformat_minor": 2
}
